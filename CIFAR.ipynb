{
 "cells": [
  {
   "cell_type": "markdown",
   "id": "ae50da7a-2c05-4991-8603-52d6e215b27c",
   "metadata": {},
   "source": [
    "## Задача: классификация изображений из датасетап CIFAR-10. Проект включает в себя обучение модели сверточной нейронной сети (CNN) на PyTorch и создание интерактивного веб-приложения на Streamlit, позволяющего пользователю загружать изображения для классификации."
   ]
  },
  {
   "cell_type": "markdown",
   "id": "3e80cda5-68e4-4177-ae6d-2a4af3a134dc",
   "metadata": {},
   "source": [
    "### Импорт библиотек"
   ]
  },
  {
   "cell_type": "code",
   "execution_count": 5,
   "id": "118a61da-8f91-41ab-ad98-68aadb05c2fd",
   "metadata": {},
   "outputs": [],
   "source": [
    "import numpy as np\n",
    "from PIL import Image\n",
    "\n",
    "import torch\n",
    "import torch.nn as nn\n",
    "import torch.nn.functional as F\n",
    "import torch.optim as optim\n",
    "\n",
    "import torchvision\n",
    "import torchvision.transforms as transforms"
   ]
  },
  {
   "cell_type": "markdown",
   "id": "d7268e3f-70f4-43a7-ab3a-076b88019e0f",
   "metadata": {},
   "source": [
    "### Трансформирование изображений в тензоры и нормализация."
   ]
  },
  {
   "cell_type": "code",
   "execution_count": 18,
   "id": "2209abca-4a1a-4db1-af82-f0f551afaab9",
   "metadata": {},
   "outputs": [],
   "source": [
    "transform = transforms.Compose([\n",
    "    transforms.ToTensor(),\n",
    "    transforms.Normalize((0.5, 0.5, 0.5), (0.5, 0.5, 0.5))\n",
    "])"
   ]
  },
  {
   "cell_type": "markdown",
   "id": "6a9396b5-2de8-4d10-b54f-1b382bd64779",
   "metadata": {},
   "source": [
    "### Загрузка данных, разделение на train/test."
   ]
  },
  {
   "cell_type": "code",
   "execution_count": 19,
   "id": "e254e607-a075-451f-b681-66e7bb8d6bd1",
   "metadata": {},
   "outputs": [],
   "source": [
    "trainset = torchvision.datasets.CIFAR10(root='./data', train=True, download=True, transform=transform)\n",
    "trainloader = torch.utils.data.DataLoader(trainset, batch_size=4, shuffle=True, num_workers=2)\n",
    "\n",
    "testset = torchvision.datasets.CIFAR10(root='./data', train=False, download=True, transform=transform)\n",
    "testloader = torch.utils.data.DataLoader(testset, batch_size=4, shuffle=False, num_workers=2)"
   ]
  },
  {
   "cell_type": "code",
   "execution_count": 20,
   "id": "c916ab0d-4e42-4ef8-9b53-87781159d102",
   "metadata": {},
   "outputs": [],
   "source": [
    "image, label = trainset[0]"
   ]
  },
  {
   "cell_type": "markdown",
   "id": "5c877d26-ffd1-4b24-a45d-7cf4f8944df6",
   "metadata": {},
   "source": [
    "# image"
   ]
  },
  {
   "cell_type": "code",
   "execution_count": 21,
   "id": "f38520f3-67fd-4309-8974-47e1ec19692e",
   "metadata": {},
   "outputs": [
    {
     "data": {
      "text/plain": [
       "torch.Size([3, 32, 32])"
      ]
     },
     "execution_count": 21,
     "metadata": {},
     "output_type": "execute_result"
    }
   ],
   "source": [
    "image.size()"
   ]
  },
  {
   "cell_type": "code",
   "execution_count": 22,
   "id": "8207829d-dc7d-4bae-989a-a4f748a180c6",
   "metadata": {},
   "outputs": [],
   "source": [
    "class_names = ['plane', 'car', 'bird', 'cat', 'deer', 'dog', 'frog', 'horse', 'ship', 'truck']"
   ]
  },
  {
   "cell_type": "markdown",
   "id": "73098d85-4473-4d58-a134-9d84b679e67c",
   "metadata": {},
   "source": [
    "### Создание архитектуры CNN."
   ]
  },
  {
   "cell_type": "code",
   "execution_count": 26,
   "id": "347801d7-be6c-49cb-af53-c11ed9d1d0ef",
   "metadata": {},
   "outputs": [],
   "source": [
    "class NeuralNet(nn.Module):\n",
    "    def __init__(self):\n",
    "        super().__init__()\n",
    "        self.conv1 = nn.Conv2d(3, 12, 5)\n",
    "        self.pool = nn.MaxPool2d(2, 2)\n",
    "        self.conv2 = nn.Conv2d(12, 24, 5)\n",
    "        self.fc1 = nn.Linear(24 * 5 * 5, 120)\n",
    "        self.fc2 = nn.Linear(120, 84)\n",
    "        self.fc3 = nn.Linear(84, 10)\n",
    "\n",
    "    def forward(self, x):\n",
    "        x = self.pool(F.relu(self.conv1(x)))\n",
    "        x = self.pool(F.relu(self.conv2(x)))\n",
    "        x = torch.flatten(x, 1)\n",
    "        x = F.relu(self.fc1(x))\n",
    "        x = F.relu(self.fc2(x))\n",
    "        x = self.fc3(x)\n",
    "        return x"
   ]
  },
  {
   "cell_type": "markdown",
   "id": "fd34a67f-f26b-4101-ab84-d3582d406e06",
   "metadata": {},
   "source": [
    "### Выбор функции потерь и оптимизатора."
   ]
  },
  {
   "cell_type": "code",
   "execution_count": 27,
   "id": "dd0fc906-87aa-4246-90f6-a29c89daa243",
   "metadata": {},
   "outputs": [],
   "source": [
    "net = NeuralNet()\n",
    "loss_function = nn.CrossEntropyLoss()\n",
    "optimizer = optim.SGD(net.parameters(), lr = 0.001, momentum = 0.9)"
   ]
  },
  {
   "cell_type": "markdown",
   "id": "9235e6a6-b294-45b3-b2b8-d3f2824052a5",
   "metadata": {},
   "source": [
    "### Тренировка модели"
   ]
  },
  {
   "cell_type": "code",
   "execution_count": 28,
   "id": "69da8e33-ca1b-4740-ac42-f9f3a72df653",
   "metadata": {},
   "outputs": [
    {
     "name": "stdout",
     "output_type": "stream",
     "text": [
      "training 0 epoch\n",
      "Loss: 1.6538\n",
      "training 1 epoch\n",
      "Loss: 1.2443\n",
      "training 2 epoch\n",
      "Loss: 1.0786\n",
      "training 3 epoch\n",
      "Loss: 0.9709\n",
      "training 4 epoch\n",
      "Loss: 0.8825\n",
      "training 5 epoch\n",
      "Loss: 0.8179\n",
      "training 6 epoch\n",
      "Loss: 0.7653\n",
      "training 7 epoch\n",
      "Loss: 0.7185\n",
      "training 8 epoch\n",
      "Loss: 0.6741\n",
      "training 9 epoch\n",
      "Loss: 0.6454\n",
      "training 10 epoch\n",
      "Loss: 0.6138\n",
      "training 11 epoch\n",
      "Loss: 0.5922\n",
      "training 12 epoch\n",
      "Loss: 0.5593\n",
      "training 13 epoch\n",
      "Loss: 0.5412\n",
      "training 14 epoch\n",
      "Loss: 0.5244\n",
      "training 15 epoch\n",
      "Loss: 0.5123\n",
      "training 16 epoch\n",
      "Loss: 0.4917\n",
      "training 17 epoch\n",
      "Loss: 0.4792\n",
      "training 18 epoch\n",
      "Loss: 0.4712\n",
      "training 19 epoch\n",
      "Loss: 0.4604\n",
      "training 20 epoch\n",
      "Loss: 0.4552\n",
      "training 21 epoch\n",
      "Loss: 0.4428\n",
      "training 22 epoch\n",
      "Loss: 0.4360\n",
      "training 23 epoch\n",
      "Loss: 0.4296\n",
      "training 24 epoch\n",
      "Loss: 0.4264\n",
      "training 25 epoch\n",
      "Loss: 0.4242\n",
      "training 26 epoch\n",
      "Loss: 0.4144\n",
      "training 27 epoch\n",
      "Loss: 0.4195\n",
      "training 28 epoch\n",
      "Loss: 0.4152\n",
      "training 29 epoch\n",
      "Loss: 0.4073\n"
     ]
    }
   ],
   "source": [
    "for epoch in range(30):\n",
    "    print(f'training {epoch} epoch')\n",
    "    \n",
    "    running_loss = 0.0\n",
    "    \n",
    "    for i, data in enumerate(trainloader):\n",
    "        inputs, labels = data\n",
    "\n",
    "        optimizer.zero_grad()\n",
    "\n",
    "        outputs = net(inputs)\n",
    "\n",
    "        loss = loss_function(outputs, labels)\n",
    "        loss.backward()\n",
    "        optimizer.step()\n",
    "\n",
    "        running_loss += loss.item()\n",
    "\n",
    "    print(f'Loss: {running_loss / len(trainloader):.4f}')"
   ]
  },
  {
   "cell_type": "markdown",
   "id": "5ae85de4-3d22-4351-b3e1-3244fbeb43d7",
   "metadata": {},
   "source": [
    "### Ассессмент перформанса модели"
   ]
  },
  {
   "cell_type": "code",
   "execution_count": 31,
   "id": "b54658e8-9a7d-41ad-9c71-cdff03883809",
   "metadata": {},
   "outputs": [
    {
     "name": "stdout",
     "output_type": "stream",
     "text": [
      "Accuracy: 62.86%\n"
     ]
    }
   ],
   "source": [
    "correct = 0\n",
    "total = 0\n",
    "\n",
    "net.eval()\n",
    "\n",
    "with torch.no_grad():\n",
    "    for data in testloader:\n",
    "        images, labels = data\n",
    "        outputs = net(images)\n",
    "        _, predicted = torch.max(outputs, 1)\n",
    "        total += labels.size(0)\n",
    "        correct += (predicted == labels).sum().item()\n",
    "\n",
    "accuracy = 100 * correct / total\n",
    "print(f'Accuracy: {accuracy}%')"
   ]
  },
  {
   "cell_type": "markdown",
   "id": "74ab164a-7aee-4f68-9bda-f80cc86e39b3",
   "metadata": {},
   "source": [
    "### Сохранение модели."
   ]
  },
  {
   "cell_type": "code",
   "execution_count": 32,
   "id": "c01aebfe-b422-49de-b01b-fc3f266ac4c5",
   "metadata": {},
   "outputs": [],
   "source": [
    "torch.save(net.state_dict(), 'cifar_net.pth')"
   ]
  },
  {
   "cell_type": "code",
   "execution_count": null,
   "id": "990d7def-980d-41ff-be3a-8c7ef39ae941",
   "metadata": {},
   "outputs": [],
   "source": []
  }
 ],
 "metadata": {
  "kernelspec": {
   "display_name": "Python 3 (ipykernel)",
   "language": "python",
   "name": "python3"
  },
  "language_info": {
   "codemirror_mode": {
    "name": "ipython",
    "version": 3
   },
   "file_extension": ".py",
   "mimetype": "text/x-python",
   "name": "python",
   "nbconvert_exporter": "python",
   "pygments_lexer": "ipython3",
   "version": "3.13.9"
  }
 },
 "nbformat": 4,
 "nbformat_minor": 5
}
